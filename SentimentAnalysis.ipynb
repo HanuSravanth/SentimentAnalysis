{
 "cells": [
  {
   "cell_type": "markdown",
   "metadata": {},
   "source": [
    "### Sentiment Analysis:\n",
    "- Sentiment analysis is all about how positive or how negative a statement is!\n",
    "\n",
    "-----------------------------------------------------------------------------------"
   ]
  },
  {
   "cell_type": "markdown",
   "metadata": {},
   "source": [
    "#### STEP 1 : \n",
    "##### Tokenization \n",
    "- breaking down into smaller segments\n",
    "\n"
   ]
  },
  {
   "cell_type": "markdown",
   "metadata": {},
   "source": [
    "#### STEP 2 : \n",
    "##### Cleaning the data \n",
    "- removing special characters and words that donot make any contribution to analytics"
   ]
  },
  {
   "cell_type": "markdown",
   "metadata": {},
   "source": [
    "#### STEP 3 : \n",
    "##### Removing the stop words \n",
    "- removing stop words. \n",
    "###### Ex: is, was ,the, he, she etc,."
   ]
  },
  {
   "cell_type": "markdown",
   "metadata": {},
   "source": [
    "#### STEP 4 : \n",
    "##### Classification \n",
    "- Classify the remaining words as POSITIVE, NEGATIVE or NEUTRAL\n",
    "- Positive  = +1\n",
    "- Negative  = -1\n",
    "- Neutral   =  0"
   ]
  },
  {
   "cell_type": "markdown",
   "metadata": {},
   "source": [
    "#### Lexicons : \n",
    "- A dictionary of pre-classified set of words\n",
    "\n",
    "-------------------"
   ]
  },
  {
   "cell_type": "markdown",
   "metadata": {},
   "source": [
    "#### CODE :\n"
   ]
  },
  {
   "cell_type": "code",
   "execution_count": 9,
   "metadata": {},
   "outputs": [],
   "source": [
    "from textblob import TextBlob\n",
    "import matplotlib.pyplot as plt"
   ]
  },
  {
   "cell_type": "code",
   "execution_count": 78,
   "metadata": {},
   "outputs": [],
   "source": [
    "feedback1 = 'South Indian and North Indian dishes, good ambience, tasty food'\n",
    "feedback2 = 'Good Place, Nice Atmosphere, prices maybe a bit high but service is well'\n",
    "feedback3 = 'Have been to this branch only once but I felt that quantity served here is lesser than the other branches. Otherwise everything is fine. Good parking space. Also Google for some reasons says sweets but this is the normal restaurant.'\n",
    "feedback4 = 'A2B does have a brand value and as usual this outlet also provides quality food but the cost is little high cost which again is a common fact of A2B. The restaurant seem not so crowded at the morning. They also provide sweets which are indeed are delicious. Also the restaurant is spacious and have adequate parking space'"
   ]
  },
  {
   "cell_type": "code",
   "execution_count": 81,
   "metadata": {},
   "outputs": [],
   "source": [
    "blob1 = TextBlob(feedback1)\n",
    "blob2 = TextBlob(feedback2)\n",
    "blob3 = TextBlob(feedback3)\n",
    "blob4 = TextBlob(feedback4)"
   ]
  },
  {
   "cell_type": "code",
   "execution_count": 84,
   "metadata": {},
   "outputs": [
    {
     "name": "stdout",
     "output_type": "stream",
     "text": [
      "Sentiment(polarity=0.7, subjectivity=0.6000000000000001)\n",
      "Sentiment(polarity=0.4866666666666666, subjectivity=0.7133333333333334)\n",
      "Sentiment(polarity=0.19027777777777777, subjectivity=0.6041666666666666)\n",
      "Sentiment(polarity=0.12597222222222224, subjectivity=0.5205555555555555)\n"
     ]
    }
   ],
   "source": [
    "print(blob1.sentiment)\n",
    "print(blob2.sentiment)\n",
    "print(blob3.sentiment)\n",
    "print(blob4.sentiment)"
   ]
  },
  {
   "cell_type": "code",
   "execution_count": 85,
   "metadata": {},
   "outputs": [
    {
     "name": "stdout",
     "output_type": "stream",
     "text": [
      "0.7 0.4866666666666666 0.19027777777777777 0.12597222222222224\n",
      "0.6000000000000001 0.7133333333333334 0.6041666666666666 0.5205555555555555\n"
     ]
    }
   ],
   "source": [
    "X1,X2,X3,X4 = blob1.sentiment.polarity,blob2.sentiment.polarity,blob3.sentiment.polarity,blob4.sentiment.polarity\n",
    "print(X1,X2,X3,X4)\n",
    "Y1,Y2,Y3,Y4 = blob1.sentiment.subjectivity, blob2.sentiment.subjectivity, blob3.sentiment.subjectivity, blob4.sentiment.subjectivity\n",
    "print(Y1,Y2,Y3,Y4)"
   ]
  },
  {
   "cell_type": "code",
   "execution_count": 86,
   "metadata": {},
   "outputs": [
    {
     "data": {
      "image/png": "[encoded data removed]",
      "text/plain": [
       "<matplotlib.figure.Figure at 0x7f4684b1e438>"
      ]
     },
     "metadata": {},
     "output_type": "display_data"
    }
   ],
   "source": [
    "plt.scatter(X1,Y1, marker='X',linewidth = '0.8',color='r',label = 'X1')\n",
    "plt.scatter(X2,Y2, marker='X',linewidth = '0.8',color='g',label = 'X2')\n",
    "plt.scatter(X3,Y3, marker='X',linewidth = '0.8',color='b',label = 'X3')\n",
    "plt.scatter(X4,Y4, marker='X',linewidth = '0.8',color='y',label = 'X4')\n",
    "\n",
    "plt.title('Sentiment')\n",
    "plt.xlabel('Polarity')\n",
    "plt.ylabel('Subjectivity')\n",
    "#plt.legend()\n",
    "plt.show()"
   ]
  },
  {
   "cell_type": "code",
   "execution_count": null,
   "metadata": {},
   "outputs": [],
   "source": []
  }
 ],
 "metadata": {
  "kernelspec": {
   "display_name": "Python 3",
   "language": "python",
   "name": "python3"
  },
  "language_info": {
   "codemirror_mode": {
    "name": "ipython",
    "version": 3
   },
   "file_extension": ".py",
   "mimetype": "text/x-python",
   "name": "python",
   "nbconvert_exporter": "python",
   "pygments_lexer": "ipython3",
   "version": "3.6.7"
  }
 },
 "nbformat": 4,
 "nbformat_minor": 2
}
