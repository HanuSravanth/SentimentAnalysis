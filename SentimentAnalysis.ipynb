{
 "cells": [
  {
   "cell_type": "markdown",
   "metadata": {},
   "source": [
    "### Sentiment Analysis:\n",
    "- Sentiment analysis is all about how positive or how negative a statement is!\n",
    "\n",
    "-----------------------------------------------------------------------------------"
   ]
  },
  {
   "cell_type": "markdown",
   "metadata": {},
   "source": [
    "#### STEP 1 : \n",
    "##### Tokenization \n",
    "- breaking down into smaller segments\n",
    "\n"
   ]
  },
  {
   "cell_type": "markdown",
   "metadata": {},
   "source": [
    "#### STEP 2 : \n",
    "##### Cleaning the data \n",
    "- removing special characters and words that donot make any contribution to analytics"
   ]
  },
  {
   "cell_type": "markdown",
   "metadata": {},
   "source": [
    "#### STEP 3 : \n",
    "##### Removing the stop words \n",
    "- removing stop words. \n",
    "###### Ex: is, was ,the, he, she etc,."
   ]
  },
  {
   "cell_type": "markdown",
   "metadata": {},
   "source": [
    "#### STEP 4 : \n",
    "##### Classification \n",
    "- Classify the remaining words as POSITIVE, NEGATIVE or NEUTRAL\n",
    "- Positive  = +1\n",
    "- Negative  = -1\n",
    "- Neutral   =  0"
   ]
  },
  {
   "cell_type": "markdown",
   "metadata": {},
   "source": [
    "#### Lexicons : \n",
    "- A dictionary of pre-classified set of words\n",
    "\n",
    "-------------------"
   ]
  },
  {
   "cell_type": "markdown",
   "metadata": {},
   "source": [
    "#### CODE :\n"
   ]
  },
  {
   "cell_type": "code",
   "execution_count": 82,
   "metadata": {},
   "outputs": [],
   "source": [
    "from textblob import TextBlob\n",
    "import matplotlib.pyplot as plt\n",
    "plt.style.use('ggplot')"
   ]
  },
  {
   "cell_type": "code",
   "execution_count": 83,
   "metadata": {},
   "outputs": [],
   "source": [
    "feedback1 = 'I think it will rain decent today? what do you think? LOL'\n",
    "feedback2 = 'Good Place, Nice Atmosphere, prices maybe a bit high but service is well'\n",
    "feedback3 = 'Have been to this branch only once but I felt that quantity served here is lesser than the other branches. Otherwise everything is fine. Good parking space. Also Google for some reasons says sweets but this is the normal restaurant.'\n",
    "feedback4 = 'A2B does have a brand value and as usual this outlet also provides quality food but the cost is little high cost which again is a common fact of A2B. The restaurant seem not so crowded at the morning. They also provide sweets which are indeed are delicious. Also the restaurant is spacious and have adequate parking space'"
   ]
  },
  {
   "cell_type": "code",
   "execution_count": 84,
   "metadata": {},
   "outputs": [],
   "source": [
    "blob1 = TextBlob(feedback1)\n",
    "blob2 = TextBlob(feedback2)\n",
    "blob3 = TextBlob(feedback3)\n",
    "blob4 = TextBlob(feedback4)"
   ]
  },
  {
   "cell_type": "code",
   "execution_count": 85,
   "metadata": {},
   "outputs": [
    {
     "name": "stdout",
     "output_type": "stream",
     "text": [
      "Sentiment(polarity=0.48333333333333334, subjectivity=0.6833333333333333)\n",
      "Sentiment(polarity=0.4866666666666666, subjectivity=0.7133333333333334)\n",
      "Sentiment(polarity=0.19027777777777777, subjectivity=0.6041666666666666)\n",
      "Sentiment(polarity=0.12597222222222224, subjectivity=0.5205555555555555)\n"
     ]
    }
   ],
   "source": [
    "print(blob1.sentiment)\n",
    "print(blob2.sentiment)\n",
    "print(blob3.sentiment)\n",
    "print(blob4.sentiment)"
   ]
  },
  {
   "cell_type": "code",
   "execution_count": 86,
   "metadata": {},
   "outputs": [
    {
     "name": "stdout",
     "output_type": "stream",
     "text": [
      "0.48333333333333334 0.4866666666666666 0.19027777777777777 0.12597222222222224\n",
      "0.6833333333333333 0.7133333333333334 0.6041666666666666 0.5205555555555555\n"
     ]
    }
   ],
   "source": [
    "X1,X2,X3,X4 = blob1.sentiment.polarity,blob2.sentiment.polarity,blob3.sentiment.polarity,blob4.sentiment.polarity\n",
    "print(X1,X2,X3,X4)\n",
    "Y1,Y2,Y3,Y4 = blob1.sentiment.subjectivity, blob2.sentiment.subjectivity, blob3.sentiment.subjectivity, blob4.sentiment.subjectivity\n",
    "print(Y1,Y2,Y3,Y4)"
   ]
  },
  {
   "cell_type": "code",
   "execution_count": 100,
   "metadata": {},
   "outputs": [
    {
     "data": {
      "image/png": "[encoded data removed]",
      "text/plain": [
       "<matplotlib.figure.Figure at 0x7f2b7eac1978>"
      ]
     },
     "metadata": {},
     "output_type": "display_data"
    }
   ],
   "source": [
    "plt.bar(Y1,X1, width=0.01, color = 'r', label = 'X1')\n",
    "plt.bar(Y2,X2, width=0.01, color = 'g', label = 'X2')\n",
    "plt.bar(Y3,X3, width=0.01, color = 'b', label = 'X3')\n",
    "plt.bar(Y4,X4, width=0.01, color = 'y', label = 'X4')\n",
    "\n",
    "#x_ticks = ['X1', 'X2', 'X3', 'X4']\n",
    "#y = [Y1, Y2, Y3, Y4]\n",
    "#plt.xticks(y,x_ticks)\n",
    "\n",
    "plt.title('Sentiment bars')\n",
    "plt.xlabel('Subjectivity')\n",
    "plt.ylabel('Polarity')\n",
    "\n",
    "plt.legend()\n",
    "plt.show()"
   ]
  },
  {
   "cell_type": "markdown",
   "metadata": {},
   "source": [
    "#### Writing a function to return the polarity and sensitivity:"
   ]
  },
  {
   "cell_type": "code",
   "execution_count": 111,
   "metadata": {},
   "outputs": [
    {
     "name": "stdout",
     "output_type": "stream",
     "text": [
      "[0.48333333333333334, 0.6833333333333333]\n",
      "Sentiment_attribs(): This function returns two numbers indicating polarity and subjectivity respectively.\n"
     ]
    }
   ],
   "source": [
    "from textblob import TextBlob\n",
    "\n",
    "def Sentiment_attribs(sent):\n",
    "    '''Sentiment_attribs(): This function returns two numbers indicating polarity and subjectivity respectively.'''\n",
    "    blob = TextBlob(sent)\n",
    "    return [blob1.sentiment.polarity, blob1.sentiment.subjectivity]\n",
    "\n",
    "def avg_sentiment()\n",
    "    '''Keeps track of average of sentiments from statements passed to Sentiment_attribs()'''\n",
    "\n",
    "z = Sentiment_attribs('I think it will rain decent today? what do you think? LOL')\n",
    "print(z)\n",
    "print(Sentiment_attribs.__doc__)\n"
   ]
  },
  {
   "cell_type": "code",
   "execution_count": null,
   "metadata": {},
   "outputs": [],
   "source": []
  }
 ],
 "metadata": {
  "kernelspec": {
   "display_name": "Python 3",
   "language": "python",
   "name": "python3"
  },
  "language_info": {
   "codemirror_mode": {
    "name": "ipython",
    "version": 3
   },
   "file_extension": ".py",
   "mimetype": "text/x-python",
   "name": "python",
   "nbconvert_exporter": "python",
   "pygments_lexer": "ipython3",
   "version": "3.6.7"
  }
 },
 "nbformat": 4,
 "nbformat_minor": 2
}
